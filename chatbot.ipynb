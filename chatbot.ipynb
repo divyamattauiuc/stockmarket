{
  "cells": [
    {
      "cell_type": "code",
      "execution_count": null,
      "metadata": {
        "colab": {
          "base_uri": "https://localhost:8080/"
        },
        "id": "ZEsR-rByfLZf",
        "outputId": "c577738d-fdcf-4dad-8dc9-aa13680601ed"
      },
      "outputs": [
        {
          "output_type": "stream",
          "name": "stdout",
          "text": [
            "Requirement already satisfied: yfinance in /usr/local/lib/python3.10/dist-packages (0.2.31)\n",
            "Requirement already satisfied: pandas>=1.3.0 in /usr/local/lib/python3.10/dist-packages (from yfinance) (1.5.3)\n",
            "Requirement already satisfied: numpy>=1.16.5 in /usr/local/lib/python3.10/dist-packages (from yfinance) (1.23.5)\n",
            "Requirement already satisfied: requests>=2.31 in /usr/local/lib/python3.10/dist-packages (from yfinance) (2.31.0)\n",
            "Requirement already satisfied: multitasking>=0.0.7 in /usr/local/lib/python3.10/dist-packages (from yfinance) (0.0.11)\n",
            "Requirement already satisfied: lxml>=4.9.1 in /usr/local/lib/python3.10/dist-packages (from yfinance) (4.9.3)\n",
            "Requirement already satisfied: appdirs>=1.4.4 in /usr/local/lib/python3.10/dist-packages (from yfinance) (1.4.4)\n",
            "Requirement already satisfied: pytz>=2022.5 in /usr/local/lib/python3.10/dist-packages (from yfinance) (2023.3.post1)\n",
            "Requirement already satisfied: frozendict>=2.3.4 in /usr/local/lib/python3.10/dist-packages (from yfinance) (2.3.8)\n",
            "Requirement already satisfied: peewee>=3.16.2 in /usr/local/lib/python3.10/dist-packages (from yfinance) (3.17.0)\n",
            "Requirement already satisfied: beautifulsoup4>=4.11.1 in /usr/local/lib/python3.10/dist-packages (from yfinance) (4.11.2)\n",
            "Requirement already satisfied: html5lib>=1.1 in /usr/local/lib/python3.10/dist-packages (from yfinance) (1.1)\n",
            "Requirement already satisfied: soupsieve>1.2 in /usr/local/lib/python3.10/dist-packages (from beautifulsoup4>=4.11.1->yfinance) (2.5)\n",
            "Requirement already satisfied: six>=1.9 in /usr/local/lib/python3.10/dist-packages (from html5lib>=1.1->yfinance) (1.16.0)\n",
            "Requirement already satisfied: webencodings in /usr/local/lib/python3.10/dist-packages (from html5lib>=1.1->yfinance) (0.5.1)\n",
            "Requirement already satisfied: python-dateutil>=2.8.1 in /usr/local/lib/python3.10/dist-packages (from pandas>=1.3.0->yfinance) (2.8.2)\n",
            "Requirement already satisfied: charset-normalizer<4,>=2 in /usr/local/lib/python3.10/dist-packages (from requests>=2.31->yfinance) (3.3.2)\n",
            "Requirement already satisfied: idna<4,>=2.5 in /usr/local/lib/python3.10/dist-packages (from requests>=2.31->yfinance) (3.4)\n",
            "Requirement already satisfied: urllib3<3,>=1.21.1 in /usr/local/lib/python3.10/dist-packages (from requests>=2.31->yfinance) (2.0.7)\n",
            "Requirement already satisfied: certifi>=2017.4.17 in /usr/local/lib/python3.10/dist-packages (from requests>=2.31->yfinance) (2023.7.22)\n"
          ]
        }
      ],
      "source": [
        "pip install yfinance"
      ]
    },
    {
      "cell_type": "code",
      "execution_count": null,
      "metadata": {
        "colab": {
          "base_uri": "https://localhost:8080/"
        },
        "id": "nLG0pEzSepO2",
        "outputId": "c2493e2a-1457-4c50-9c05-04380e89b7a2"
      },
      "outputs": [
        {
          "output_type": "stream",
          "name": "stdout",
          "text": [
            "1258\n",
            "[[  0.           0.           0.        ]\n",
            " [ 68.49198353  68.76766134  68.71061074]\n",
            " [ 68.76766134  68.71061074  68.7296411 ]\n",
            " ...\n",
            " [106.81999969 107.09999847 108.05999756]\n",
            " [107.09999847 108.05999756 106.        ]\n",
            " [  0.           0.           0.        ]]\n",
            "[0, array([68.7296411]), array([70.95408002]), array([70.72610239]), array([73.51015019]), array([73.81524179]), array([70.907252]), array([71.54606743]), array([69.6963832]), array([70.43054298]), array([71.05026587]), array([71.0311928]), array([68.61900012]), array([68.04693441]), array([67.59882136]), array([68.12323037]), array([65.52986572]), array([69.87755131]), array([68.07552706]), array([65.50125358]), array([68.81922329]), array([70.52588793]), array([70.53541894]), array([69.40082993]), array([69.83940565]), array([70.03010116]), array([71.26003115]), array([73.25271396]), array([73.38619143]), array([72.1181275]), array([72.78551611]), array([71.94649344]), array([72.64253039]), array([74.36824105]), array([73.92965331]), array([76.22744311]), array([76.58974602]), array([77.40970622]), array([76.84717994]), array([77.46692036]), array([76.08443041]), array([76.61832885]), array([76.65649029]), array([77.40018436]), array([78.01991341]), array([77.43831763]), array([78.16292191]), array([78.66825523]), array([78.32500209]), array([78.42035916]), array([79.0877541]), array([80.06027292]), array([80.81348286]), array([80.67048032]), array([81.50949618]), array([80.64186064]), array([80.68952634]), array([79.67889454]), array([80.2795383]), array([81.41416451]), array([81.33787862]), array([81.54762896]), array([82.07201389]), array([83.09568578]), array([83.4684702]), array([82.0919971]), array([81.82435433]), array([81.22214195]), array([80.84933397]), array([81.62361126]), array([81.9964107]), array([81.91993504]), array([82.35009433]), array([83.3729008]), array([83.4493734]), array([84.32879568]), array([83.64054979]), array([83.39201844]), array([81.44197188]), array([77.88607882]), array([79.9412435]), array([79.99861282]), array([80.22801932]), array([80.86847147]), array([81.28905081]), array([81.25081464]), array([81.15523553]), array([80.76332275]), array([82.20670477]), array([81.26037777]), array([80.50523273]), array([80.90668115]), array([81.15522861]), array([81.5376158]), array([83.05745037]), array([83.16259073]), array([84.07069]), array([84.84496885]), array([84.45304477]), array([83.70744793]), array([83.80305144]), array([84.50085191]), array([84.07069612]), array([84.29054655]), array([84.39571075]), array([83.8603984]), array([82.4074597]), array([82.11111225]), array([80.07507136]), array([79.35815424]), array([78.79417139]), array([78.58386734]), array([79.12874697]), array([78.04858812]), array([79.12873368]), array([79.50153606]), array([80.78244231]), array([79.82653204]), array([80.10376537]), array([79.68314187]), array([79.32946835]), array([78.86110214]), array([78.57432393]), array([79.19565442]), array([77.15004262]), array([75.43900047]), array([74.76710487]), array([74.03860072]), array([76.01322637]), array([78.87930306]), array([79.29149005]), array([79.64613699]), array([80.27878482]), array([80.18292458]), array([80.01998348]), array([79.70364374]), array([80.04872681]), array([79.88577222]), array([79.27230202]), array([80.25961404]), array([81.38111924]), array([81.63035734]), array([82.43552484]), array([81.09356333]), array([79.7036626]), array([79.49275078]), array([80.50884012]), array([81.40986381]), array([81.82205166]), array([81.79329174]), array([82.24382185]), array([82.49303368]), array([84.44848677]), array([84.81272954]), array([84.07465294]), array([84.52516673]), array([85.36867319]), array([85.79047146]), array([84.7552341]), array([83.99795405]), array([84.09381503]), array([82.97230364]), array([83.04899553]), array([83.05858311]), array([83.22152706]), array([83.81584359]), array([84.01712821]), array([83.22153755]), array([83.48034259]), array([81.72621391]), array([79.10934989]), array([76.35831074]), array([76.54041523]), array([77.16347827]), array([78.41918038]), array([79.69404743]), array([78.03577278]), array([77.80571798]), array([77.87281924]), array([77.57565856]), array([76.77048647]), array([78.60130784]), array([77.37436518]), array([78.54380831]), array([79.55987614]), array([78.6204876]), array([78.06453231]), array([79.20520368]), array([78.50545142]), array([80.72930737]), array([82.36017915]), array([80.72643551]), array([82.24486652]), array([83.87860966]), array([84.95495857]), array([85.47391367]), array([84.82041577]), array([83.57109319]), array([83.7056241]), array([84.8108105]), array([83.69600254]), array([83.38847786]), array([84.23418768]), array([84.95497422]), array([84.57053682]), array([83.59029913]), array([85.00298924]), array([88.20323347]), array([88.04947194]), array([88.27050539]), array([88.92401971]), array([90.46165613]), array([87.90532031]), array([87.75154358]), array([88.62609708]), array([88.89517488]), array([86.92505232]), array([88.80867651]), array([89.85620876]), array([90.33672352]), array([90.52891888]), array([91.29773955]), array([90.42320512]), array([91.84553458]), array([91.11514553]), array([92.84500792]), array([92.3164392]), array([91.32657053]), array([89.06815745]), array([87.87649395]), array([87.51129396]), array([87.30948203]), array([85.96402716]), array([86.4926026]), array([86.66559596]), array([86.61752968]), array([86.63677077]), array([87.10766392]), array([86.94428589]), array([86.76169762]), array([85.88715709]), array([86.79052371]), array([86.23313506]), array([87.92453178]), array([88.54920367]), array([89.85619705]), array([90.92292752]), array([90.4424248]), array([89.01050813]), array([88.61646321]), array([90.12529729]), array([89.74087236]), array([89.85619458]), array([90.92894098]), array([90.65914116]), array([89.10786738]), array([89.42582863]), array([92.38387968]), array([93.03907719]), array([93.48231554]), array([93.23179501]), array([93.36669318]), array([93.771368]), array([93.87735719]), array([94.56147877]), array([95.75625947]), array([96.54635901]), array([96.8354231]), array([97.31720353]), array([96.57526331]), array([96.18986191]), array([96.68126193]), array([97.31720892]), array([97.83748078]), array([96.91249775]), array([97.66406726]), array([96.92213842]), array([97.26900367]), array([98.09764576]), array([97.61588339]), array([98.22291954]), array([98.17473189]), array([97.31719244]), array([98.71433474]), array([99.48514946]), array([99.12863847]), array([99.6586017]), array([100.44868614]), array([101.17132967]), array([100.23668543]), array([99.81274599]), array([94.62892192]), array([96.68124077]), array([97.38463125]), array([95.40939474]), array([94.53257305]), array([95.39011692]), array([98.19402257]), array([98.04947813]), array([97.22084042]), array([96.1705678]), array([95.60209239]), array([96.42109694]), array([97.06667554]), array([98.77213464]), array([99.75494998]), array([99.24427549]), array([98.91665732]), array([98.72394983]), array([98.28073249]), array([92.05626204]), array([92.83674864]), array([89.68599181]), array([86.71829209]), array([83.12302393]), array([86.57239663]), array([89.60631302]), array([88.9686012]), array([88.17631008]), array([85.3742981]), array([79.12291927]), array([83.76073905]), array([81.16163635]), array([75.58658793]), array([75.55761115]), array([63.07417094]), array([65.22883148]), array([62.60073165]), array([64.77470779]), array([69.09367783]), array([62.803637]), array([63.47999405]), array([77.40306208]), array([77.4610337]), array([78.93932609]), array([81.16162817]), array([82.25344734]), array([76.80401993]), array([76.33058155]), array([76.67841744]), array([79.14226265]), array([85.7028093]), array([81.83796992]), array([83.76074132]), array([82.90080407]), array([83.04573823]), array([82.00222712]), array([82.54330593]), array([85.99266336]), array([85.44193776]), array([83.0843744]), array([84.04094508]), array([85.93469185]), array([85.88639808]), array([85.39362847]), array([87.49028239]), array([86.95887846]), array([84.06022811]), array([82.77518652]), array([81.81864906]), array([83.61580718]), array([85.07477788]), array([86.37915545]), array([87.06516362]), array([86.42748124]), array([88.43718226]), array([84.42740336]), array([82.12782219]), array([82.36937253]), array([87.43231917]), array([87.78017507]), array([90.05076422]), array([89.74156922]), array([91.22953506]), array([92.73682041]), array([94.80451691]), array([96.70794561]), array([95.10881101]), array([95.3122015]), array([96.3002105]), array([98.08247462]), array([100.40714979]), array([100.73649753]), array([99.81630058]), array([99.59351742]), array([99.76787224]), array([95.29283253]), array([94.73104195]), array([90.95341037]), array([98.07277829]), array([95.89338481]), array([95.59310032]), array([96.83294979]), array([93.8108348]), array([97.97593692]), array([97.77250506]), array([96.11618226]), array([95.4090651]), array([90.75969921]), array([92.98751643]), array([95.40907802]), array([95.68030129]), array([96.49392912]), array([96.10648327]), array([94.44046351]), array([95.45750147]), array([93.95613032]), array([95.16692101]), array([93.30717927]), array([95.321897]), array([94.44045166]), array([93.90771699]), array([92.50321168]), array([93.87865279]), array([95.07975591]), array([95.26378912]), array([95.06038496]), array([93.91740613]), array([93.90771592]), array([93.40403776]), array([93.44276855]), array([93.84961222]), array([94.95383391]), array([94.72135934]), array([94.07237121]), array([97.48192226]), array([97.83063658]), array([99.25449625]), array([103.49706653]), array([102.40252296]), array([101.99568849]), array([102.7899706]), array([103.15802042]), array([103.11929058]), array([104.31068511]), array([104.1847754]), array([104.61096803]), array([106.5482165]), array([108.48544021]), array([108.40795839]), array([108.47574609]), array([107.76471465]), array([108.86167185]), array([108.72577096]), array([111.69631439]), array([113.38544002]), array([109.65770884]), array([108.03652539]), array([109.71595578]), array([112.51176241]), array([113.34662169]), array([115.03574971]), array([116.20066323]), array([114.85130991]), array([113.90965936]), array([112.05550035]), array([109.64802062]), array([109.79360113]), array([126.41311742]), array([122.7436393]), array([120.03518256]), array([121.50105506]), array([120.7050238]), array([122.41355287]), array([123.99592088]), array([120.71472768]), array([123.35522235]), array([125.07345726]), array([124.64629233]), array([126.58786104]), array([126.18984555]), array([127.35475932]), array([124.30656833]), array([125.74329053]), array([122.78246369]), array([125.72387719]), array([125.32587358]), array([124.25803064]), array([124.74338949]), array([125.8112514]), array([126.19956744]), array([125.28703354]), array([125.01523514]), array([121.61753297]), array([118.70524931]), array([120.04490833]), array([118.79263018]), array([120.38467719]), array([121.66608321]), array([125.41324755]), array([126.11218918]), array([131.11161597]), array([126.24808956]), array([124.92785083]), array([122.91837023]), array([124.17066756]), array([125.67534362]), array([126.66551991]), array([129.17980353]), array([128.063398]), array([129.40307463]), array([130.45153854]), array([131.05337869]), array([130.32529446]), array([132.02415765]), array([129.99524756]), array([132.45131101]), array([131.20871993]), array([131.1504603]), array([133.34031173]), array([133.26249406]), array([134.46867864]), array([136.73510011]), array([134.50757571]), array([133.64187264]), array([135.13012671]), array([133.68075984]), array([135.27604407]), array([136.1028135]), array([137.24090775]), array([140.86916629]), array([139.14744957]), array([138.67080198]), array([137.25062487]), array([138.65134171]), array([138.9334606]), array([138.28173862]), array([137.83425584]), array([138.952885]), array([134.81884976]), array([137.39655592]), array([139.29333227]), array([141.57924376]), array([142.01697217]), array([142.50331969]), array([140.87888578]), array([139.74080774]), array([136.72537337]), array([137.1436435]), array([136.55030332]), array([138.52491277]), array([137.24089157]), array([135.19823376]), array([134.00172719]), array([128.61289263]), array([128.74904578]), array([130.29573615]), array([131.6769395]), array([133.32085217]), array([135.88883932]), array([135.74290375]), array([137.48407572]), array([141.19015644]), array([139.68244774]), array([138.56379542]), array([139.09883792]), array([139.20581022]), array([139.45871158]), array([137.44519688]), array([139.0793676]), array([141.46251403]), array([137.67865017]), array([132.31896667]), array([131.37542492]), array([133.84612911]), array([132.46125375]), array([132.20782714]), array([134.07926236]), array([133.62110892]), array([130.60934066]), array([130.16097942]), array([130.25843242]), array([132.08111043]), array([133.04607436]), array([135.6582366]), array([136.45750772]), array([137.13978839]), array([142.18872501]), array([139.57652972]), array([140.71695051]), array([136.45753059]), array([134.14746567]), array([134.98571965]), array([132.99734893]), array([123.83520757]), array([128.27005055]), array([129.57617279]), array([129.00111315]), array([129.72237166]), array([131.28187699]), array([129.73211251]), array([132.01291271]), array([133.52367781]), array([133.80636909]), array([130.55085761]), array([131.34036494]), array([132.16888325]), array([130.16100181]), array([129.63462911]), array([131.30137129]), array([130.90176674]), array([125.90154923]), array([124.3615511]), array([126.60332645]), array([125.66761717]), array([127.18816673]), array([128.65994892]), array([128.91334787]), array([128.43577313]), array([129.08882871]), array([129.99528795]), array([128.88413056]), array([129.34221576]), array([129.2447795]), array([131.58402698]), array([134.50811345]), array([134.87850244]), array([131.99341878]), array([130.31692139]), array([130.94071476]), array([132.88039651]), array([132.9875746]), array([130.10250416]), array([130.39491709]), array([130.44366179]), array([129.73211581]), array([131.52557183]), array([131.77896897]), array([134.06952349]), array([133.06061506]), array([134.63303834]), array([131.4491067]), array([130.09154534]), array([131.36121628]), array([130.87287179]), array([131.54677757]), array([130.50173448]), array([128.43123951]), array([128.43124287]), array([128.62655658]), array([128.47027977]), array([127.25923043]), array([126.22396212]), array([123.72370692]), array([126.22396375]), array([127.77686294]), array([129.71064054]), array([130.77521058]), array([148.85325666]), array([150.32800512]), array([149.68341177]), array([151.17769163]), array([150.47452547]), array([154.51792843]), array([156.18799726]), array([156.42240906]), array([154.47882578]), array([157.91668262]), array([157.86784826]), array([157.58464109]), array([158.09247277]), array([157.10605471]), array([157.84829673]), array([154.45928605]), array([153.59008624]), array([156.75447156]), array([157.35024279]), array([160.51463412]), array([161.84289188]), array([160.97365802]), array([160.65135972]), array([162.0284432]), array([162.70233217]), array([165.11468338]), array([165.2709516]), array([167.36102556]), array([167.40984706]), array([170.29100254]), array([168.47445003]), array([167.5563489]), array([167.98607706]), array([166.90198748]), array([166.47225127]), array([166.71639733]), array([167.53682176]), array([165.78859506]), array([163.06371639]), array([162.38981113]), array([165.49557411]), array([165.64210744]), array([166.0327498]), array([165.42724132]), array([163.63606818]), array([164.24258922]), array([163.90996079]), array([161.3371039]), array([161.65017204]), array([159.65448202]), array([160.14361278]), array([158.48055034]), array([161.66971374]), array([160.68167585]), array([158.05011793]), array([155.71200937]), array([154.07831954]), array([154.16635516]), array([154.52831075]), array([150.39020337]), array([151.72064738]), array([153.38370469]), array([155.26203418]), array([147.75864464]), array([146.26190285]), array([144.13901522]), array([142.5444392]), array([142.71076259]), array([142.0650749]), array([143.86511085]), array([144.78470928]), array([144.78468362]), array([147.03472676]), array([148.91302752]), array([148.68800864]), array([149.10867487]), array([150.96740807]), array([154.74351934]), array([154.37178011]), array([153.89244655]), array([156.21093447]), array([155.05659191]), array([155.00765501]), array([158.75444836]), array([159.68380049]), array([161.23926523]), array([160.09468245]), array([159.46860477]), array([159.51749542]), array([164.15454183]), array([163.13713749]), array([165.32846388]), array([168.46873147]), array([171.9122364]), array([172.51881497]), array([167.52960341]), array([167.51001576]), array([165.91542756]), array([163.86105035]), array([166.01325693]), array([165.57306378]), array([167.87198376]), array([168.58611612]), array([168.41006284]), array([171.17854954]), array([169.29049063]), array([164.82954641]), array([164.40890593]), array([166.140441]), array([165.12302726]), array([167.17742022]), array([163.64583828]), array([167.21326856]), array([167.41907654]), array([167.6934895]), array([167.80129569]), array([165.90983365]), array([165.1356015]), array([165.43939454]), array([162.96971737]), array([161.70548395]), array([159.45140345]), array([158.4027815]), array([156.15850607]), array([163.36176287]), array([163.90075091]), array([162.9305274]), array([163.19513023]), array([164.44958817]), array([163.73415525]), array([164.949402]), array([164.21436152]), array([164.18499141]), array([162.56792218]), array([163.16572185]), array([158.85359239]), array([157.55994465]), array([147.51460746]), array([147.47539477]), array([149.09244821]), array([150.14108517]), array([145.42714231]), array([145.10372191]), array([144.80971346]), array([142.55565931]), array([141.43840461]), array([137.9984939]), array([142.07542949]), array([144.8293096]), array([142.0950165]), array([141.24239039]), array([143.34946261]), array([146.51495453]), array([145.3879406]), array([144.45689629]), array([142.46742518]), array([142.39882856]), array([141.85001611]), array([143.19266164]), array([141.08559184]), array([141.86961195]), array([137.28303387]), array([141.34040242]), array([142.12442864]), array([142.63404271]), array([140.50736107]), array([138.76290856]), array([136.87145753]), array([130.34444528]), array([135.37202015]), array([134.32337427]), array([133.9901516]), array([130.32481476]), array([134.00975557]), array([130.16051559]), array([128.67730525]), array([123.01943525]), array([125.12148813]), array([121.8210616]), array([124.75805676]), array([119.37522217]), array([117.71518302]), array([120.6718146]), array([122.72477089]), array([124.60087064]), array([127.42000023]), array([134.84595134]), array([130.28822808]), array([131.37853202]), array([130.69096804]), array([131.38836802]), array([135.40585261]), array([136.51581917]), array([135.38620448]), array([132.06615251]), array([130.69096302]), array([131.6634089]), array([127.74415966]), array([125.17059909]), array([127.14496655]), array([122.88191326]), array([122.98014202]), array([122.82298814]), array([126.79135868]), array([129.65957751]), array([130.73026181]), array([135.51390741]), array([136.09343657]), array([131.94827243]), array([125.53404506]), array([124.69911894]), array([118.94301299]), array([120.98614481]), array([123.98206763]), array([122.22380477]), array([122.80334677]), array([120.36731223]), array([121.90947466]), array([111.72333508]), array([110.96699386]), array([111.0259259]), array([108.73723898]), array([103.31511815]), array([108.30503785]), array([110.97681336]), array([113.45213006]), array([110.5053096]), array([107.01826368]), array([106.74323234]), array([105.56451253]), array([105.2108865]), array([101.62560721]), array([108.04964065]), array([112.19482738]), array([115.41666685]), array([117.70536376]), array([117.39103303]), array([118.37117522]), array([119.6414389]), array([116.84488663]), array([119.05061703]), array([119.49372309]), array([115.29888327]), array([108.70137982]), array([108.68169206]), array([110.44431589]), array([107.83484716]), array([104.52624451]), array([106.80091169]), array([103.78771668]), array([103.40368569]), array([108.24841969]), array([110.52308142]), array([106.54488376]), array([101.41458358]), array([100.38064792]), array([100.08523339]), array([98.91343152]), array([103.28551266]), array([104.03389247]), array([104.9496668]), array([104.96935712]), array([103.40368478]), array([100.38064422]), array([101.53274193]), array([103.15750649]), array([104.56562626]), array([103.98465648]), array([107.54927398]), array([108.68169576]), array([110.21783464]), array([107.93332179]), array([105.83590416]), array([104.67395601]), array([107.7560652]), array([111.03513155]), array([112.25616075]), array([111.83274096]), array([111.68503787]), array([112.88638468]), array([111.06466973]), array([112.25616455]), array([109.61715675]), array([111.50778583]), array([113.12269678]), array([112.64020055]), array([113.68397784]), array([114.16649284]), array([114.98379023]), array([114.22556346]), array([113.73321796]), array([109.32173617]), array([109.14450235]), array([108.98695101]), array([110.18829021]), array([111.57671293]), array([105.17614995]), array([107.30311182]), array([106.30855151]), array([104.18159813]), array([106.12014833]), array([104.12533618]), array([103.76981736]), array([105.66588038]), array([108.01620088]), array([109.99127388]), array([107.48293393]), array([104.80673068]), array([104.82647495]), array([102.77241301]), array([102.39715263]), array([102.5255282]), array([101.38987243]), array([98.54578037]), array([95.71156633]), array([94.89191417]), array([95.85968993]), array([95.89918881]), array([96.88671669]), array([82.26138942]), array([82.09349657]), array([86.60652313]), array([86.39913693]), array([89.36173277]), array([87.43604834]), array([86.6657741]), array([84.96721506]), array([86.90278224]), array([85.31285545]), array([89.38148962]), array([88.4137045]), array([91.4454189]), array([87.15953536]), array([88.35445846]), array([85.93499535]), array([86.69540053]), array([86.93239937]), array([89.64812574]), array([91.72193803]), array([90.06288219]), array([91.84043913]), array([94.49690416]), array([91.96881924]), array([88.84822637]), array([93.2723535]), array([95.10916664]), array([93.2624844]), array([91.5145452]), array([95.12892333]), array([99.05929555]), array([103.88832288]), array([106.64352521]), array([103.93770081]), array([102.81191877]), array([106.2880272]), array([103.30567378]), array([103.31556123]), array([104.67835439]), array([105.12273573]), array([103.93769884]), array([104.05620684]), array([105.74489133]), array([108.71734585]), array([107.62465037]), array([109.97226912]), array([108.61520713]), array([106.30719248]), array([107.57511895]), array([109.17983579]), array([109.06095742]), array([114.51896676]), array([112.62698245]), array([108.15956021]), array([105.86144248]), array([103.99918608]), array([102.02796752]), array([115.65810987]), array([113.21142142]), array([115.0142454]), array([115.37084413]), array([116.47036666]), array([114.98452707]), array([115.4599887]), array([117.43121634]), array([118.82790528]), array([119.14489417]), array([120.848652]), array([123.82033885]), array([124.0283606]), array([125.12789055]), array([127.13873283]), array([125.46469058]), array([126.79203166]), array([126.5939283]), array([123.6123229]), array([123.50336984]), array([125.7024182]), array([125.61326404]), array([124.6722296]), array([127.24770066]), array([125.87081145]), array([125.30619201]), array([125.2269412]), array([126.69296383]), array([129.21891508]), array([125.59345477]), array([124.33543982]), array([122.79015836]), array([122.2156268]), array([123.53307715]), array([120.3632859]), array([121.66092002]), array([122.78025172]), array([123.72129323]), array([124.24628593]), array([122.54251679]), array([122.11657276]), array([119.9571507]), array([119.62036463]), array([116.85669393]), array([118.13451396]), array([117.61941415]), array([116.83687052]), array([116.44065119]), array([119.33560237]), array([120.32899417]), array([119.40513825]), array([118.48129564]), array([119.28594588]), array([118.04420896]), array([115.05411085]), array([118.21307373]), array([115.55080024]), array([116.08722689]), array([120.36872815]), array([120.18991103]), array([122.68331796]), array([122.84226459]), array([119.67335797]), array([119.43494445]), array([120.21971686]), array([117.17002614]), array([117.85546475]), array([120.22965179]), array([120.12038275]), array([121.68993835]), array([120.57733314]), array([122.18662893]), array([118.71970668]), array([118.51109489]), array([121.23297206]), array([123.93499435]), array([123.8157843]), array([126.16017846]), array([125.19659182]), array([126.38865591]), array([125.16679361]), array([123.97472864]), array([123.57737292]), array([124.68003431]), array([125.69328447]), array([123.3886284]), array([123.61711193]), array([124.32241661]), array([126.08070185]), array([126.30918383]), array([124.6601596]), array([124.11380175]), array([125.09725229]), array([126.41846185]), array([124.44161724]), array([125.45486771]), array([122.63365099]), array([120.18991803]), array([119.02766166]), array([116.72299895]), array([115.61039778]), array([116.65345861]), array([113.80243953]), array([112.10375055]), array([109.04411255]), array([108.27920998]), array([107.63350627]), array([106.29243502]), array([107.68317802]), array([105.00102718]), array([103.49108342]), array([107.27020816]), array([107.51936906]), array([105.13735743]), array([105.68552445]), array([106.80178351]), array([105.5559623]), array([105.93468936]), array([106.78184711]), array([107.1207143]), array([111.45617013]), array([113.61891445]), array([111.03757202]), array([108.76519342]), array([110.44954119]), array([107.38980512]), array([109.30338281]), array([112.15382546]), array([112.96111429]), array([113.22024708]), array([111.2169682]), array([110.68874055]), array([108.25689693]), array([104.93803215]), array([104.44966907]), array([104.13074188]), array([105.29682463]), array([108.16719528]), array([108.70539142]), array([107.57917312]), array([106.90144597]), array([108.21702959]), array([108.71535893]), array([109.20372131]), array([107.63897279]), array([110.04091968]), array([107.91803562]), array([107.93797418]), array([109.46285695]), array([107.74859972]), array([109.0442611]), array([109.6322869]), array([107.91803453]), array([106.64231546]), array([108.34659435]), array([109.50271819]), array([109.26352151]), array([109.42299031]), array([109.94124727]), array([108.53596568]), array([107.55923704]), array([105.71541838]), array([105.71542017]), array([107.07087857]), array([103.48291313]), array([105.11742711]), array([100.62250577]), array([96.65581159]), array([98.37005749]), array([98.17073036]), array([99.25707647]), array([99.69561301]), array([101.30022852]), array([102.27695675]), array([101.97000122]), array([101.5]), array([99.76000214]), array([98.26000214]), array([98.09999847]), array([98.33000183]), array([96.98999786]), array([96.30000305]), array([96.72000122]), array([98.15000153]), array([96.]), array([95.04000092]), array([93.97000122]), array([93.41999817]), array([91.58000183]), array([90.]), array([90.]), array([90.55999756]), array([89.09999847]), array([99.37000275]), array([96.19999695]), array([94.31999969]), array([95.58000183]), array([95.79000092]), array([95.79000092]), array([96.77999878]), array([97.25]), array([98.30999756]), array([99.54000092]), array([99.58999634]), array([99.72000122]), array([101.97000122]), array([102.97000122]), array([103.76999664]), array([103.31999969]), array([102.12999725]), array([103.66000366]), array([104.45999908]), array([102.18000031]), array([99.77999878]), array([99.]), array([101.40000153]), array([102.55000305]), array([102.05000305]), array([106.43000031]), array([106.95999908]), array([107.31999969]), array([109.37000275]), array([109.81999969]), array([107.33999634]), array([105.37000275]), array([105.55999756]), array([106.81999969]), array([107.09999847]), array([108.05999756]), array([106.]), array([106.16999817]), 0]\n",
            "Coefficients: \n",
            " [0.01280843 0.04282557 0.94210362]\n",
            "Mean squared error: 4.97\n",
            "1\n",
            "[0.01474132]\n"
          ]
        },
        {
          "output_type": "stream",
          "name": "stderr",
          "text": [
            "<ipython-input-11-08150a09ea49>:28: DeprecationWarning: setting an array element with a sequence. This was supported in some cases where the elements are arrays with a single element. For example `np.array([1, np.array([2])], dtype=int)`. In the future this will raise the same ValueError as `np.array([1, [2]], dtype=int)`.\n",
            "  X[counter] = [data[counter-1], data[counter], data[counter +1]]\n",
            "/usr/local/lib/python3.10/dist-packages/sklearn/utils/_array_api.py:185: VisibleDeprecationWarning: Creating an ndarray from ragged nested sequences (which is a list-or-tuple of lists-or-tuples-or ndarrays with different lengths or shapes) is deprecated. If you meant to do this, you must specify 'dtype=object' when creating the ndarray.\n",
            "  array = numpy.asarray(array, order=order, dtype=dtype)\n",
            "/usr/local/lib/python3.10/dist-packages/sklearn/utils/_array_api.py:185: VisibleDeprecationWarning: Creating an ndarray from ragged nested sequences (which is a list-or-tuple of lists-or-tuples-or ndarrays with different lengths or shapes) is deprecated. If you meant to do this, you must specify 'dtype=object' when creating the ndarray.\n",
            "  array = numpy.asarray(array, order=order, dtype=dtype)\n"
          ]
        }
      ],
      "source": [
        "import yfinance as yf\n",
        "import pandas as pd\n",
        "import numpy as np\n",
        "from sklearn.model_selection import train_test_split\n",
        "from sklearn import datasets, linear_model\n",
        "from sklearn.metrics import mean_squared_error\n",
        "import matplotlib.pyplot as plt\n",
        "from sklearn.neural_network import MLPRegressor\n",
        "from sklearn.datasets import make_regression\n",
        "from sklearn.model_selection import train_test_split\n",
        "import random\n",
        "\n",
        "#setup\n",
        "#code\n",
        "ticker = yf.Ticker('NKE') #import data\n",
        "aapl_df = ticker.history(period=\"5y\") #get data from 5 year period in dataframe\n",
        "aapl_df.drop(['High','Low','Close','Volume','Dividends','Stock Splits'], axis=1, inplace=True) #only have two columns, not seven\n",
        "data = np.empty(shape = (1259), dtype = float)\n",
        "data=aapl_df[['Open']].to_numpy()\n",
        "\n",
        "X = np.zeros((1256,3))\n",
        "Y = [0]*1256\n",
        "\n",
        "print(len(data))\n",
        "counter = 1\n",
        "while counter < len(data) - 3:\n",
        "  Y[counter] = data[counter+2]\n",
        "  X[counter] = [data[counter-1], data[counter], data[counter +1]]\n",
        "  counter = counter +1\n",
        "print(X)\n",
        "print(Y)\n",
        "\n",
        "X_train, X_test, y_train, y_test = train_test_split(X, Y, test_size=0.33, random_state=42)\n",
        "\n",
        "\n",
        "regr = linear_model.LinearRegression()\n",
        "regr.fit(X_train, y_train)\n",
        "y_pred = regr.predict(X_test)\n",
        "\n",
        "\n",
        "# The coefficients\n",
        "print(\"Coefficients: \\n\", regr.coef_)\n",
        "# The mean squared error\n",
        "print(\"Mean squared error: %.2f\" % mean_squared_error(y_test, y_pred))\n",
        "count = 0\n",
        "sum = 0\n",
        "misseddays = 0\n",
        "for item in y_test:\n",
        "\n",
        "  error = y_test[count]- y_pred[count]\n",
        "  error = abs(error)\n",
        "  if y_test[count] <1:\n",
        "    errorpercent = 0\n",
        "    misseddays = misseddays+1\n",
        "  else:\n",
        "    errorpercent = error/ y_test[count]\n",
        "  sum = sum + errorpercent\n",
        "  count = count+1\n",
        "\n",
        "count = count - misseddays\n",
        "print(misseddays)\n",
        "averageerror = sum/count\n",
        "print(averageerror)\n",
        "\n",
        "# The coefficient of determination: 1 is perfect prediction\n",
        "\n",
        "\n",
        "# Plot outputs\n",
        "# plt.scatter(X_test, y_test, color=\"black\")\n",
        "# plt.plot(X_test, y_pred, color=\"blue\", linewidth=3)\n",
        "\n",
        "# plt.xticks(())\n",
        "# plt.yticks(())\n",
        "\n",
        "# plt.show()"
      ]
    },
    {
      "cell_type": "code",
      "source": [
        "neuralregr = MLPRegressor(random_state=1, max_iter=500).fit(X_train, y_train)\n",
        "neuralpredict = neuralregr.predict(X_test)\n",
        "\n",
        "count = 0\n",
        "sum = 0\n",
        "misseddays = 0\n",
        "for item in y_test:\n",
        "\n",
        "  error = y_test[count]- neuralpredict[count]\n",
        "  error = abs(error)\n",
        "  if y_test[count] <1:\n",
        "    errorpercent = 0\n",
        "    misseddays = misseddays+1\n",
        "  else:\n",
        "    errorpercent = error/ y_test[count]\n",
        "  sum = sum + errorpercent\n",
        "  count = count+1\n",
        "\n",
        "count = count - misseddays\n",
        "print(misseddays)\n",
        "averageerror = sum/count\n",
        "print(averageerror)\n",
        "\n",
        "print(\"Mean squared error: %.2f\" % mean_squared_error(y_test, neuralpredict))\n",
        "\n"
      ],
      "metadata": {
        "colab": {
          "base_uri": "https://localhost:8080/"
        },
        "id": "oahZQmV3kwMN",
        "outputId": "0fd944f5-dfb7-4103-87c9-858f4cd1bff9"
      },
      "execution_count": null,
      "outputs": [
        {
          "output_type": "stream",
          "name": "stdout",
          "text": [
            "1\n",
            "[0.01753072]\n",
            "Mean squared error: 6.90\n"
          ]
        },
        {
          "output_type": "stream",
          "name": "stderr",
          "text": [
            "/usr/local/lib/python3.10/dist-packages/sklearn/utils/_array_api.py:185: VisibleDeprecationWarning: Creating an ndarray from ragged nested sequences (which is a list-or-tuple of lists-or-tuples-or ndarrays with different lengths or shapes) is deprecated. If you meant to do this, you must specify 'dtype=object' when creating the ndarray.\n",
            "  array = numpy.asarray(array, order=order, dtype=dtype)\n",
            "/usr/local/lib/python3.10/dist-packages/sklearn/utils/_array_api.py:185: VisibleDeprecationWarning: Creating an ndarray from ragged nested sequences (which is a list-or-tuple of lists-or-tuples-or ndarrays with different lengths or shapes) is deprecated. If you meant to do this, you must specify 'dtype=object' when creating the ndarray.\n",
            "  array = numpy.asarray(array, order=order, dtype=dtype)\n"
          ]
        }
      ]
    },
    {
      "cell_type": "code",
      "source": [
        "npredictvalue = neuralregr.predict(X_test)\n",
        "lpredictvalue = regr.predict(X_test)\n",
        "\n",
        "w1 = 0.5\n",
        "w2 = 0.5\n",
        "newpredict = []\n",
        "for x in range(0,len(npredictvalue)-1, 1):\n",
        "  predictedvalue = (w1* npredictvalue[x] )+(w2 *lpredictvalue[x])\n",
        "  error1 = abs(y_test[x] - npredictvalue[x])\n",
        "  error2 = abs(y_test[x]- lpredictvalue[x])\n",
        "  newpredict.append(predictedvalue)\n",
        "  w1 = w1/(2**error1)\n",
        "  w2 = w2/(2**error2)\n",
        "  sum = w1+w2\n",
        "  w1= w1/sum\n",
        "  w2 = w2/sum\n",
        "\n",
        "\n",
        "\n",
        "\n",
        "\n",
        "\n",
        "\n",
        "\n",
        "\n",
        "\n"
      ],
      "metadata": {
        "id": "Af4OjlmuxL-W"
      },
      "execution_count": null,
      "outputs": []
    },
    {
      "cell_type": "code",
      "source": [
        "money = 10000\n",
        "stocks = 0\n",
        "\n",
        "prediction = neuralregr.predict(X)\n",
        "for i in range(1,len(X),1):\n",
        "  if money > Y[i-1]*2:\n",
        "    if prediction[i] > Y[i-1]:\n",
        "      stocks = stocks +2\n",
        "      money = money - Y[i-1]\n",
        "  if stocks > 2:\n",
        "    if prediction[i]< Y[i-1]:\n",
        "      stocks = stocks -2\n",
        "      money = money + Y[i-1]\n",
        "soldstocks = stocks* Y[-2]\n",
        "stocks = 0\n",
        "money = money + soldstocks\n",
        "print(\"Stocks: \"+ str(stocks))\n",
        "print(\"Money: \" + str(money))\n",
        "\n",
        "## adjust the number of stocks for the accuracy rate and the amount of money you have\n",
        "## analytical report for the code and bot that we did\n",
        "\n",
        "## https://www.lumiere-education.com/post/15-journals-to-publish-your-research-in-high-school#:~:text=Journal%20of%20Research%20High%20School,but%20release%20publications%20each%20month\n",
        "## make a list of confrences to submit the work to\n",
        "\n",
        "## make a random trading bot!\n",
        "\n"
      ],
      "metadata": {
        "colab": {
          "base_uri": "https://localhost:8080/"
        },
        "id": "unetINlVn6Ce",
        "outputId": "44c79e46-2662-4e4c-ad9e-393d6f63921a"
      },
      "execution_count": null,
      "outputs": [
        {
          "output_type": "stream",
          "name": "stdout",
          "text": [
            "Stocks: 0\n",
            "Money: [14859.7546562]\n"
          ]
        }
      ]
    },
    {
      "cell_type": "code",
      "source": [],
      "metadata": {
        "id": "ic8lkD6K4ePj"
      },
      "execution_count": null,
      "outputs": []
    },
    {
      "cell_type": "code",
      "source": [
        "money = 10000\n",
        "stocks = 0\n",
        "\n",
        "prediction = neuralregr.predict(X)\n",
        "rand = random.randint(0,2)\n",
        "for i in range(1,len(X),1):\n",
        "  if money > Y[i-1]*2:\n",
        "    if rand == 0:\n",
        "      stocks = stocks +2\n",
        "      money = money - Y[i-1]\n",
        "  if stocks > 2:\n",
        "    if rand == 1:\n",
        "      stocks = stocks -2\n",
        "      money = money + Y[i-1]\n",
        "soldstocks = stocks* Y[-2]\n",
        "stocks = 0\n",
        "money = money + soldstocks\n",
        "print(\"Stocks: \"+ str(stocks))\n",
        "print(\"Money: \" + str(money))\n",
        "\n",
        "## adjust the number of stocks for the accuracy rate and the amount of money you have\n",
        "## analytical report for the code and bot that we did\n",
        "\n",
        "## https://www.lumiere-education.com/post/15-journals-to-publish-your-research-in-high-school#:~:text=Journal%20of%20Research%20High%20School,but%20release%20publications%20each%20month\n",
        "## make a list of confrences to submit the work to\n",
        "\n",
        "## make a random trading bot!\n",
        "\n"
      ],
      "metadata": {
        "colab": {
          "base_uri": "https://localhost:8080/"
        },
        "outputId": "ee88c130-9a80-4395-9715-778538fbae7d",
        "id": "G2NGYKff4enP"
      },
      "execution_count": null,
      "outputs": [
        {
          "output_type": "stream",
          "name": "stdout",
          "text": [
            "Stocks: 0\n",
            "Money: [10000.]\n"
          ]
        }
      ]
    }
  ],
  "metadata": {
    "colab": {
      "provenance": []
    },
    "kernelspec": {
      "display_name": "Python 3",
      "name": "python3"
    },
    "language_info": {
      "name": "python"
    }
  },
  "nbformat": 4,
  "nbformat_minor": 0
}